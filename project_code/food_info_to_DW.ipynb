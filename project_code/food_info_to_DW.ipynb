{
 "cells": [
  {
   "cell_type": "code",
   "execution_count": 1,
   "id": "d8f71a02-4b4b-452c-a4ab-d1d3e0b4a9fc",
   "metadata": {},
   "outputs": [],
   "source": [
    "from IPython.core.interactiveshell import InteractiveShell\n",
    "InteractiveShell.ast_node_interactivity = 'all'"
   ]
  },
  {
   "cell_type": "code",
   "execution_count": 38,
   "id": "41a45625-c11a-4acc-b055-cc86c731df5e",
   "metadata": {},
   "outputs": [],
   "source": [
    "from hdfs import InsecureClient # hadoop 서버와 연결하는  client객체 모듈(hdfs 접근) !pip install hdfs\n",
    "import requests # web 사용\n",
    "import json # json 기능 사용\n",
    "import datetime as dt\n",
    "import pandas as pd\n",
    "from pyspark.sql import SparkSession\n",
    "from pyspark.sql.functions import col, expr, lit, concat_ws, when, row_number, concat\n",
    "from pyspark.sql.window import Window"
   ]
  },
  {
   "cell_type": "code",
   "execution_count": 3,
   "id": "2f2d2372-94b9-46b0-9578-98b20391b296",
   "metadata": {},
   "outputs": [],
   "source": [
    "# client = InsecureClient('http://localhost:9870', user='root')"
   ]
  },
  {
   "cell_type": "markdown",
   "id": "a1edbdfa-4772-4694-9b35-f17f41605de6",
   "metadata": {},
   "source": [
    "#### DataLake에 Json파일 불러오기"
   ]
  },
  {
   "cell_type": "code",
   "execution_count": 54,
   "id": "b70b042f-29b1-4a42-a528-1c6b15fa68a2",
   "metadata": {},
   "outputs": [
    {
     "name": "stdout",
     "output_type": "stream",
     "text": [
      "+-----------------------------+--------------------+\n",
      "|                         data|                meta|\n",
      "+-----------------------------+--------------------+\n",
      "|[{간장게장, 게장(-醬)은 한...|{{food, ingredien...|\n",
      "+-----------------------------+--------------------+\n",
      "\n"
     ]
    }
   ],
   "source": [
    "# food_info = spark.read.csv('/data/food_info.csv',header=True)\n",
    "\n",
    "json_file_path = '/data/food_info.json'\n",
    "json_data = spark.read.json(json_file_path)\n",
    "food_info_data=spark.createDataFrame(json_data.select('data').first()['data'])\n",
    "json_data.show()"
   ]
  },
  {
   "cell_type": "code",
   "execution_count": 55,
   "id": "2a2728e3-c538-44ac-8b2c-14b7ce75ca02",
   "metadata": {},
   "outputs": [
    {
     "name": "stdout",
     "output_type": "stream",
     "text": [
      "+--------+----------------------------------+--------------------------------+\n",
      "|    food|                              info|                      ingredient|\n",
      "+--------+----------------------------------+--------------------------------+\n",
      "|간장게장|   게장(-醬)은 한국의 게 요리이...|  꽃게 5마리,간장 3머그컵,물 ...|\n",
      "|  갈비찜| 갈비찜은 갈비에 양념과 간을 하...|  돼지갈비 2kg,감자,양파,대파...|\n",
      "|  갈비탕|         갈비탕(영어: galbi-tan...|   갈비탕용 소고기 1kg,무 1토...|\n",
      "|  감자전| 감자전은 감자를 갈아서 기름에 ...|감자 3개,물 감자가잠길만큼,소...|\n",
      "|  감자탕|           감자탕(Gamja-tang, p...|   감자탕용 돼지등뼈 1.5kg,감...|\n",
      "|곱창구이| 곱창은 소나 돼지의 작은창자로 ...|  곱창 1kg,감자 2개,참기름 1스푼|\n",
      "|    김밥| 김밥은 소금과 참기름으로 맛을 ...|    밥,김밥용 김 12장,햄 8개,...|\n",
      "|  김치전| 김치전 또는 김치부침개는 잘게 ...| 김치 2컵,부침가루 1컵,김치국...|\n",
      "|김치찌개|        김치찌개(영어: Kimchi-j...|  김치 1/2포기,포도씨유 1큰술...|\n",
      "|  닭갈비| 닭갈비는 한국의 대표적인 볶음 ...|    닭안심 500g,양파 1개,당근...|\n",
      "|닭볶음탕|닭도리탕은 형태상 조림에 가까운...|  닭 1마리,당면,감자3개,당근1...|\n",
      "|도토리묵|도토리묵은 도토리의 녹말을 이용...|  도토리가루 1컵,물 6컵,소금 ...|\n",
      "|된장찌개| 된장찌개는 끓는 육수에 된장을 ...|   느타리버섯 1줌,양파 1/2개,...|\n",
      "|  떡볶이|  떡볶이는 떡면(가는 가래떡)을 ...|   떡볶이떡 2컵,물 2컵,대파 1...|\n",
      "|  막국수|막국수는 메밀국수를 삶아 찬물에...|      메밀국수 300g,적채 40g,...|\n",
      "|  물냉면|    냉면(冷麵, 문화어: 랭면)은 ...|냉면면,냉면육수 1봉,양파(생략...|\n",
      "|    물회| 물회는 잘게 썬 해산물과 채소를...|  오이 1/2개,당근 약간,양배추...|\n",
      "|  미역국| 미역국은 미역을 넣고 끓이는 국...|  미역,다진마늘1T,간장1T,된장...|\n",
      "|배추김치| 배추김치는 배추로 담근 김치다....|   쪽파 1줌,양파 1개,마늘 8큰...|\n",
      "|  불고기| 불고기는 한국의 고기 요리이다....|   소불고기 400g,식용유 약간,...|\n",
      "+--------+----------------------------------+--------------------------------+\n",
      "only showing top 20 rows\n",
      "\n"
     ]
    }
   ],
   "source": [
    "from pyspark.sql.functions import explode, col\n",
    "df_exploded = json_data.select(\"data\", \"meta.desc\", \"meta.cols\").withColumn(\"data\", explode(\"data\"))\n",
    "df_result = df_exploded.select(\n",
    "    col(\"data.food\"),\n",
    "    col(\"data.info\"),\n",
    "    col(\"data.ingredient\")\n",
    ")\n",
    "df_result.show()\n",
    "\n",
    "food_info_data = food_info_data.withColumn(\n",
    "    'ingredient',\n",
    "    when(col('food') == '양념치킨', concat(col('ingredient'), lit(',닭고기'))).otherwise(col('ingredient'))\n",
    ")"
   ]
  },
  {
   "cell_type": "code",
   "execution_count": 56,
   "id": "3e2e6e9f-3f94-4de5-8d7d-0817d4730777",
   "metadata": {},
   "outputs": [
    {
     "data": {
      "text/plain": [
       "Row(ingredient='물엿 4큰술,다진 마늘 2큰술,케찹 2큰술,설탕 2큰술,고추장 1큰술,고춧가루 1큰술,물 1큰술,간장 1큰술,닭고기')"
      ]
     },
     "execution_count": 56,
     "metadata": {},
     "output_type": "execute_result"
    }
   ],
   "source": [
    "food_info_data.select('ingredient').collect()[28]"
   ]
  },
  {
   "cell_type": "code",
   "execution_count": 58,
   "id": "bc5fbb2e-36a0-4f13-8cf8-9af42dfbe3cc",
   "metadata": {},
   "outputs": [
    {
     "data": {
      "text/plain": [
       "{'url': 'jdbc:mysql://localhost:3306/finalPrj_DW?characterEncoding=utf8&serverTimezone=Asia/Seoul',\n",
       " 'props': {'user': 'bigMysql', 'password': 'bigMysql1234@'}}"
      ]
     },
     "execution_count": 58,
     "metadata": {},
     "output_type": "execute_result"
    }
   ],
   "source": [
    "JDBC = {\n",
    "      'url':'jdbc:mysql://localhost:3306/finalPrj_DW?characterEncoding=utf8&serverTimezone=Asia/Seoul'\n",
    "     ,'props':{\n",
    "      'user':'bigMysql',\n",
    "      'password':'bigMysql1234@'   \n",
    "      }\n",
    "}\n",
    "JDBC"
   ]
  },
  {
   "cell_type": "code",
   "execution_count": 59,
   "id": "2c6ad2f4-ccbb-426d-ba5c-23fd8560d9b5",
   "metadata": {},
   "outputs": [
    {
     "name": "stderr",
     "output_type": "stream",
     "text": [
      "                                                                                \r"
     ]
    }
   ],
   "source": [
    "food_info_data.write.mode('overwrite').jdbc(url=JDBC['url'], table='food_info',properties=JDBC['props'])"
   ]
  }
 ],
 "metadata": {
  "kernelspec": {
   "display_name": "Python 3",
   "language": "python",
   "name": "python3"
  },
  "language_info": {
   "codemirror_mode": {
    "name": "ipython",
    "version": 3
   },
   "file_extension": ".py",
   "mimetype": "text/x-python",
   "name": "python",
   "nbconvert_exporter": "python",
   "pygments_lexer": "ipython3",
   "version": "3.6.9"
  }
 },
 "nbformat": 4,
 "nbformat_minor": 5
}
